{
 "cells": [
  {
   "cell_type": "code",
   "execution_count": 1,
   "metadata": {},
   "outputs": [
    {
     "name": "stdout",
     "output_type": "stream",
     "text": [
      "Set created using '{}' curly brackets: {1, 2, 3, 4, 5}\n",
      "Set created using set constructor: {4, 5, 6, 7, 8}\n"
     ]
    }
   ],
   "source": [
    "#creating sets \n",
    "\n",
    "# Using curly braces\n",
    "my_set = {1, 2, 3, 4, 5}\n",
    "\n",
    "# Using set() constructor\n",
    "another_set = set([4, 5, 6, 7, 8])\n",
    "\n",
    "#print\n",
    "print(\"Set created using '{}' curly brackets:\",my_set)\n",
    "print(\"Set created using set constructor:\",another_set)"
   ]
  },
  {
   "cell_type": "code",
   "execution_count": 2,
   "metadata": {},
   "outputs": [
    {
     "name": "stdout",
     "output_type": "stream",
     "text": [
      "Union: {1, 2, 3, 4, 5}\n",
      "Intersection: {3}\n",
      "Difference: {1, 2}\n",
      "Symmetric Difference: {1, 2, 4, 5}\n"
     ]
    }
   ],
   "source": [
    "#set operations\n",
    "\n",
    "#Union (|):\n",
    "set1 = {1, 2, 3}\n",
    "set2 = {3, 4, 5}\n",
    "union_set = set1 | set2  # Output: {1, 2, 3, 4, 5}\n",
    "print(\"Union:\",union_set)\n",
    "\n",
    "#Intersection (&):\n",
    "set1 = {1, 2, 3}\n",
    "set2 = {3, 4, 5}\n",
    "intersection_set = set1 & set2  # Output: {3}\n",
    "print(\"Intersection:\",intersection_set)\n",
    "\n",
    "# Difference (-):\n",
    "set1 = {1, 2, 3}\n",
    "set2 = {3, 4, 5}\n",
    "difference_set = set1 - set2  # Output: {1, 2}\n",
    "print(\"Difference:\",difference_set)\n",
    "\n",
    "# Symmetric Difference (^):\n",
    "set1 = {1, 2, 3}\n",
    "set2 = {3, 4, 5}\n",
    "symmetric_difference_set = set1 ^ set2  # Output: {1, 2, 4, 5}\n",
    "print(\"Symmetric Difference:\",symmetric_difference_set)\n"
   ]
  },
  {
   "cell_type": "code",
   "execution_count": 3,
   "metadata": {},
   "outputs": [
    {
     "name": "stdout",
     "output_type": "stream",
     "text": [
      "Before add(): {1, 2, 3}\n",
      "After add(): {1, 2, 3, 4}\n",
      "Before remove(): {1, 2, 3}\n",
      "After remove(): {1, 3}\n",
      "Before discard(): {1, 2, 3}\n",
      "After discard(): {1, 3}\n",
      "Before pop(): {1, 2, 3}\n",
      "After pop(): 1\n",
      "Before clear(): {1, 2, 3}\n",
      "After clear(): set()\n",
      "Before update(): {1, 2, 3}\n",
      "After update(): {1, 2, 3, 4, 5}\n",
      "True\n",
      "True\n",
      "True\n"
     ]
    }
   ],
   "source": [
    "# Set Methods in Python\n",
    "\n",
    "# add(element):\n",
    "my_set = {1, 2, 3}\n",
    "print(\"Before add():\",my_set)\n",
    "my_set.add(4)\n",
    "print(\"After add():\",my_set)  # Output: {1, 2, 3, 4}\n",
    "\n",
    "# remove(element)\n",
    "my_set = {1, 2, 3}\n",
    "print(\"Before remove():\",my_set)\n",
    "my_set.remove(2)\n",
    "print(\"After remove():\",my_set)  # Output: {1, 3}\n",
    "\n",
    "#discard(element)\n",
    "my_set = {1, 2, 3}\n",
    "print(\"Before discard():\",my_set)\n",
    "my_set.discard(2)\n",
    "print(\"After discard():\",my_set)  # Output: {1, 3}\n",
    "\n",
    "#pop(element)\n",
    "my_set = {1, 2, 3}\n",
    "print(\"Before pop():\",my_set)\n",
    "removed_element = my_set.pop()\n",
    "print(\"After pop():\",removed_element)  # Output: 1\n",
    "\n",
    "#clear(element)\n",
    "my_set = {1, 2, 3}\n",
    "print(\"Before clear():\",my_set)\n",
    "my_set.clear()\n",
    "print(\"After clear():\",my_set)  # Output: set()\n",
    "\n",
    "#update(iterable)\n",
    "my_set = {1, 2, 3}\n",
    "print(\"Before update():\",my_set)\n",
    "my_set.update([4, 5])\n",
    "print(\"After update():\",my_set)  # Output: {1, 2, 3, 4, 5}\n",
    "\n",
    "# issubset(other_set):\n",
    "set1 = {1, 2}\n",
    "set2 = {1, 2, 3, 4}\n",
    "result = set1.issubset(set2)\n",
    "print(result)  # Output: True\n",
    "\n",
    "# issuperset(other_set):\n",
    "set1 = {1, 2, 3, 4}\n",
    "set2 = {1, 2}\n",
    "result = set1.issuperset(set2)\n",
    "print(result)  # Output: True\n",
    "\n",
    "# isdisjoint(other_set):\n",
    "set1 = {1, 2, 3}\n",
    "set2 = {4, 5, 6}\n",
    "result = set1.isdisjoint(set2)\n",
    "print(result)  # Output: True\n"
   ]
  },
  {
   "cell_type": "code",
   "execution_count": 4,
   "metadata": {},
   "outputs": [
    {
     "name": "stdout",
     "output_type": "stream",
     "text": [
      "True\n",
      "False\n"
     ]
    }
   ],
   "source": [
    "# Checking Membership with the 'in' Keyword\n",
    "my_set = {1, 2, 3, 4, 5}\n",
    "\n",
    "# Check if an element is present in the set\n",
    "print(3 in my_set)  # Output: True\n",
    "print(6 in my_set)  # Output: False"
   ]
  },
  {
   "cell_type": "code",
   "execution_count": 6,
   "metadata": {},
   "outputs": [
    {
     "name": "stdout",
     "output_type": "stream",
     "text": [
      "{(2, 'a'), (2, 'b'), (2, 'c'), (1, 'a'), (1, 'b'), (1, 'c')}\n",
      "{frozenset({2}), frozenset({2, 3}), frozenset({1, 2, 3}), frozenset({1, 2}), frozenset({3}), frozenset({1}), frozenset(), frozenset({1, 3})}\n"
     ]
    }
   ],
   "source": [
    "# Advanced Set Operations in Python\n",
    "\n",
    "# Cartesian Product:\n",
    "\n",
    "set1 = {1, 2}\n",
    "set2 = {'a', 'b', 'c'}\n",
    "cartesian_product = {(x, y) for x in set1 for y in set2}\n",
    "print(cartesian_product)\n",
    "\n",
    "#Power set:\n",
    "def power_set(s):\n",
    "    if len(s) == 0:\n",
    "        return {frozenset()}\n",
    "    element = s.pop()\n",
    "    subsets = power_set(s)\n",
    "    return subsets.union({subset.union({element}) for subset in subsets})\n",
    "\n",
    "my_set = {1, 2, 3}\n",
    "print(power_set(my_set))\n",
    "\n"
   ]
  }
 ],
 "metadata": {
  "kernelspec": {
   "display_name": "Python 3",
   "language": "python",
   "name": "python3"
  },
  "language_info": {
   "codemirror_mode": {
    "name": "ipython",
    "version": 3
   },
   "file_extension": ".py",
   "mimetype": "text/x-python",
   "name": "python",
   "nbconvert_exporter": "python",
   "pygments_lexer": "ipython3",
   "version": "3.9.6"
  }
 },
 "nbformat": 4,
 "nbformat_minor": 2
}
