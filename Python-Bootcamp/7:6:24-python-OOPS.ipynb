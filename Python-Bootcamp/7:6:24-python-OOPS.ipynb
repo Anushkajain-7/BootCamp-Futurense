{
 "cells": [
  {
   "cell_type": "code",
   "execution_count": 1,
   "metadata": {},
   "outputs": [
    {
     "name": "stdout",
     "output_type": "stream",
     "text": [
      "Anushka\n",
      "19\n",
      "Homo Sapiens\n",
      "Hello, my name is Anushka and I am 19 years old.\n"
     ]
    }
   ],
   "source": [
    "#class and object : Classes are blueprints for creating objects, and objects are instances of classes. \n",
    "\n",
    "# Define a class\n",
    "class Person:\n",
    "    # Class attribute\n",
    "    species = \"Homo Sapiens\"\n",
    "\n",
    "    # Constructor method\n",
    "    def __init__(self, name, age):\n",
    "        self.name = name  # Instance attribute\n",
    "        self.age = age  # Instance attribute\n",
    "\n",
    "    # Instance method\n",
    "    def introduce(self):\n",
    "        print(f\"Hello, my name is {self.name} and I am {self.age} years old.\")\n",
    "\n",
    "# Create an object (instance of the class)\n",
    "person1 = Person(\"Anushka\", 19)\n",
    "\n",
    "# Access attributes\n",
    "print(person1.name)  \n",
    "print(person1.age)  \n",
    "print(person1.species)  \n",
    "\n",
    "# Call the method\n",
    "person1.introduce() "
   ]
  },
  {
   "cell_type": "code",
   "execution_count": 2,
   "metadata": {},
   "outputs": [
    {
     "name": "stdout",
     "output_type": "stream",
     "text": [
      "Deposited $500 into account 1234567890\n",
      "Withdrew $200 from account 1234567890\n",
      "1300\n"
     ]
    }
   ],
   "source": [
    "#Data Encapsulation : Data encapsulation is the bundling of data and methods that operate on that data within a single unit (class) and restricting direct access to the data from outside the class. \n",
    "\n",
    "class BankAccount:\n",
    "    def __init__(self, account_number, balance):\n",
    "        self.__account_number = account_number  # Private attribute\n",
    "        self.__balance = balance  # Private attribute\n",
    "\n",
    "    def deposit(self, amount):\n",
    "        if amount > 0:\n",
    "            self.__balance += amount\n",
    "            print(f\"Deposited ${amount} into account {self.__account_number}\")\n",
    "        else:\n",
    "            print(\"Invalid deposit amount\")\n",
    "\n",
    "    def withdraw(self, amount):\n",
    "        if 0 < amount <= self.__balance:\n",
    "            self.__balance -= amount\n",
    "            print(f\"Withdrew ${amount} from account {self.__account_number}\")\n",
    "        else:\n",
    "            print(\"Invalid withdrawal amount or insufficient balance\")\n",
    "\n",
    "    def get_balance(self):\n",
    "        return self.__balance\n",
    "\n",
    "# Usage\n",
    "account = BankAccount(\"1234567890\", 1000)\n",
    "account.deposit(500)  # Output: Deposited $500 into account 1234567890\n",
    "account.withdraw(200)  # Output: Withdrew $200 from account 1234567890\n",
    "print(account.get_balance())  # Output: 1300\n",
    "\n",
    "# Attempting to access private attributes directly (not possible)\n",
    "# print(account.__account_number)  # AttributeError: 'BankAccount' object has no attribute '__account_number'\n",
    "# print(account.__balance)  # AttributeError: 'BankAccount' object has no attribute '__balance'\n"
   ]
  },
  {
   "cell_type": "code",
   "execution_count": 3,
   "metadata": {},
   "outputs": [
    {
     "name": "stdout",
     "output_type": "stream",
     "text": [
      "Deposited $500 into account 1234567890\n",
      "Withdrew $200 from account 1234567890\n",
      "1300\n"
     ]
    }
   ],
   "source": [
    "# Data abstraction: Data abstraction is the process of hiding the internal implementation details and exposing only the necessary information or interface to the outside world.\n",
    "class BankAccount:\n",
    "    def __init__(self, account_number, balance):\n",
    "        self._account_number = account_number\n",
    "        self._balance = balance\n",
    "\n",
    "    def deposit(self, amount):\n",
    "        if amount > 0:\n",
    "            self._balance += amount\n",
    "            print(f\"Deposited ${amount} into account {self._account_number}\")\n",
    "        else:\n",
    "            print(\"Invalid deposit amount\")\n",
    "\n",
    "    def withdraw(self, amount):\n",
    "        if 0 < amount <= self._balance:\n",
    "            self._balance -= amount\n",
    "            print(f\"Withdrew ${amount} from account {self._account_number}\")\n",
    "        else:\n",
    "            print(\"Invalid withdrawal amount or insufficient balance\")\n",
    "\n",
    "    def get_balance(self):\n",
    "        return self._balance\n",
    "\n",
    "# Usage\n",
    "account = BankAccount(\"1234567890\", 1000)\n",
    "account.deposit(500)\n",
    "account.withdraw(200)\n",
    "print(account.get_balance())"
   ]
  },
  {
   "cell_type": "code",
   "execution_count": 4,
   "metadata": {},
   "outputs": [
    {
     "name": "stdout",
     "output_type": "stream",
     "text": [
      "Abc\n",
      "18\n",
      "{'Math': 85, 'English': 92, 'Science': 78}\n",
      "{'Math': 90, 'English': 92, 'Science': 78}\n",
      "86.66666666666667\n"
     ]
    }
   ],
   "source": [
    "#Data hiding : It is the principle of preventing direct access to an object's internal data and methods from outside the class, except through the object's public interface.\n",
    "class Student:\n",
    "    def __init__(self, name, age, grades):\n",
    "        self.__name = name  # Private attribute\n",
    "        self.__age = age  # Private attribute\n",
    "        self.__grades = grades  # Private attribute\n",
    "\n",
    "    def get_name(self):\n",
    "        return self.__name\n",
    "\n",
    "    def get_age(self):\n",
    "        return self.__age\n",
    "\n",
    "    def get_grades(self):\n",
    "        return self.__grades\n",
    "\n",
    "    def set_grade(self, course, grade):\n",
    "        if course in self.__grades:\n",
    "            self.__grades[course] = grade\n",
    "        else:\n",
    "            print(f\"Course '{course}' not found.\")\n",
    "\n",
    "    def get_average_grade(self):\n",
    "        total = sum(self.__grades.values())\n",
    "        num_courses = len(self.__grades)\n",
    "        if num_courses > 0:\n",
    "            return total / num_courses\n",
    "        else:\n",
    "            return 0.0\n",
    "\n",
    "# Usage\n",
    "student = Student(\"Abc\", 18, {\"Math\": 85, \"English\": 92, \"Science\": 78})\n",
    "\n",
    "# Access public methods\n",
    "print(student.get_name())  \n",
    "print(student.get_age())  \n",
    "print(student.get_grades())  \n",
    "\n",
    "# Modify grades through the public method\n",
    "student.set_grade(\"Math\", 90)\n",
    "print(student.get_grades())  \n",
    "\n",
    "# Calculate average grade\n",
    "average_grade = student.get_average_grade()\n",
    "print(average_grade) \n",
    "\n",
    "# Attempting to access private attributes directly (not possible)\n",
    "# print(student.__name)  # AttributeError: 'Student' object has no attribute '__name'\n",
    "# print(student.__age)  # AttributeError: 'Student' object has no attribute '__age'\n",
    "# print(student.__grades)  # AttributeError: 'Student' object has no attribute '__grades'\n"
   ]
  },
  {
   "cell_type": "code",
   "execution_count": 5,
   "metadata": {},
   "outputs": [
    {
     "name": "stdout",
     "output_type": "stream",
     "text": [
      "Instance method called. Instance attribute: I am an instance attribute\n",
      "Class method called. Class attribute: I am a class attribute\n",
      "Static method called with parameter: Hello!\n"
     ]
    }
   ],
   "source": [
    "#Methods in class\n",
    "\n",
    "#Instance methods \n",
    "class Example:\n",
    "    def __init__(self, instance_attribute):\n",
    "        self.instance_attribute = instance_attribute\n",
    "\n",
    "    def instance_method(self):\n",
    "        return f\"Instance method called. Instance attribute: {self.instance_attribute}\"\n",
    "# Creating an instance of the class\n",
    "example = Example(\"I am an instance attribute\")\n",
    "# Calling the instance method\n",
    "print(example.instance_method())\n",
    "\n",
    "#class method\n",
    "class Example:\n",
    "    class_attribute = \"I am a class attribute\"\n",
    "\n",
    "    @classmethod\n",
    "    def class_method(cls):\n",
    "        return f\"Class method called. Class attribute: {cls.class_attribute}\"\n",
    "# Calling the class method\n",
    "print(Example.class_method())\n",
    "\n",
    "#static method\n",
    "class Example:\n",
    "    @staticmethod\n",
    "    def static_method(param):\n",
    "        return f\"Static method called with parameter: {param}\"\n",
    "# Calling the static method\n",
    "print(Example.static_method(\"Hello!\"))\n"
   ]
  },
  {
   "cell_type": "code",
   "execution_count": 6,
   "metadata": {},
   "outputs": [
    {
     "name": "stdout",
     "output_type": "stream",
     "text": [
      "Instance 1 attribute\n",
      "I am a class attribute\n",
      "Modified class attribute\n"
     ]
    }
   ],
   "source": [
    "#Data Members In Class\n",
    "#Instance variable\n",
    "class Example:\n",
    "    def __init__(self, instance_attribute):\n",
    "        self.instance_attribute = instance_attribute\n",
    "# Creating instances of the class\n",
    "example1 = Example(\"Instance 1 attribute\")\n",
    "# Accessing instance variables\n",
    "print(example1.instance_attribute)\n",
    "\n",
    "#Class Variable \n",
    "class Example:\n",
    "    class_attribute = \"I am a class attribute\"\n",
    "# Accessing class variable\n",
    "print(Example.class_attribute)\n",
    "# Modifying class variable\n",
    "Example.class_attribute = \"Modified class attribute\"\n",
    "# Accessing modified class variable\n",
    "print(Example.class_attribute)\n"
   ]
  },
  {
   "cell_type": "code",
   "execution_count": 7,
   "metadata": {},
   "outputs": [
    {
     "name": "stdout",
     "output_type": "stream",
     "text": [
      "Hi Anshika, this is Anushka. Nice to meet you!\n",
      "Anshika\n",
      "One argument method called with argument: Argument 1\n",
      "Two arguments method called with arguments: Argument 1, Argument 2\n",
      "One argument method called with argument: Argument 1\n",
      "Two arguments method called with arguments: Argument 1, Argument 2\n"
     ]
    }
   ],
   "source": [
    "#Methods with Arguments \n",
    "#Method Passes Object as an Argument:\n",
    "class Example:\n",
    "    def __init__(self, name):\n",
    "        self.name = name\n",
    "\n",
    "    def greet(self):\n",
    "        return f\"Hello, my name is {self.name}\"\n",
    "\n",
    "    def introduce_friend(self, friend):\n",
    "        return f\"Hi {friend.name}, this is {self.name}. Nice to meet you!\"\n",
    "# Creating instances of the class\n",
    "person1 = Example(\"Anushka\")\n",
    "person2 = Example(\"Anshika\")\n",
    "# Calling the method with an object as an argument\n",
    "print(person1.introduce_friend(person2))\n",
    "\n",
    "# Method Returns Object:\n",
    "class Example:\n",
    "    def __init__(self, name):\n",
    "        self.name = name\n",
    "\n",
    "    def create_friend(self, friend_name):\n",
    "        return Example(friend_name)\n",
    "# Creating an instance of the class\n",
    "person = Example(\"Alice\")\n",
    "# Calling the method that returns an object\n",
    "friend = person.create_friend(\"Anshika\")\n",
    "print(friend.name)\n",
    "\n",
    "#Method Overloading using Default Argument Values:\n",
    "class Example:\n",
    "    def method(self, arg1, arg2=None):\n",
    "        if arg2 is None:\n",
    "            # Behavior for method with one argument\n",
    "            return f\"One argument method called with argument: {arg1}\"\n",
    "        else:\n",
    "            # Behavior for method with two arguments\n",
    "            return f\"Two arguments method called with arguments: {arg1}, {arg2}\"\n",
    "# Creating an instance of the class\n",
    "obj = Example()\n",
    "# Calling the overloaded methods\n",
    "print(obj.method(\"Argument 1\"))\n",
    "print(obj.method(\"Argument 1\", \"Argument 2\"))\n",
    "\n",
    "#Method Overloading using Variable-Length Argument Lists (Args and Kwargs)\n",
    "class Example:\n",
    "    def method(self, *args):\n",
    "        if len(args) == 1:\n",
    "            # Behavior for method with one argument\n",
    "            return f\"One argument method called with argument: {args[0]}\"\n",
    "        elif len(args) == 2:\n",
    "            # Behavior for method with two arguments\n",
    "            return f\"Two arguments method called with arguments: {args[0]}, {args[1]}\"\n",
    "        else:\n",
    "            # Handle other cases\n",
    "            return \"Method overloaded with more than two arguments\"\n",
    "# Creating an instance of the class\n",
    "obj = Example()\n",
    "# Calling the overloaded methods\n",
    "print(obj.method(\"Argument 1\"))\n",
    "print(obj.method(\"Argument 1\", \"Argument 2\"))\n",
    "\n"
   ]
  },
  {
   "cell_type": "code",
   "execution_count": 8,
   "metadata": {},
   "outputs": [
    {
     "name": "stdout",
     "output_type": "stream",
     "text": [
      "Anushka\n",
      "Object of Example class with name: Anushka\n",
      "Creating a new instance of Example class\n"
     ]
    }
   ],
   "source": [
    "#Special Methods\n",
    "#__init__ method\n",
    "class Example:\n",
    "    def __init__(self, name):\n",
    "        self.name = name\n",
    "# Creating an instance of the class\n",
    "obj = Example(\"Anushka\")\n",
    "print(obj.name)  \n",
    "\n",
    "#__str__method\n",
    "class Example:\n",
    "    def __init__(self, name):\n",
    "        self.name = name\n",
    "\n",
    "    def __str__(self):\n",
    "        return f\"Object of Example class with name: {self.name}\"\n",
    "# Creating an instance of the class\n",
    "obj = Example(\"Anushka\")\n",
    "print(obj) \n",
    "\n",
    "#__new__method\n",
    "class Example:\n",
    "    def __new__(cls, *args, **kwargs):\n",
    "        print(\"Creating a new instance of Example class\")\n",
    "        instance = super().__new__(cls)\n",
    "        return instance\n",
    "\n",
    "    def __init__(self, name):\n",
    "        self.name = name\n",
    "# Creating an instance of the class\n",
    "obj = Example(\"Anushka\")\n",
    "\n"
   ]
  },
  {
   "cell_type": "code",
   "execution_count": 9,
   "metadata": {},
   "outputs": [
    {
     "name": "stdout",
     "output_type": "stream",
     "text": [
      "Initializing Example object with name: Anushka\n",
      "Destructing Example object with name: Anushka\n",
      "Initializing Example object with name: Anshika\n"
     ]
    }
   ],
   "source": [
    "#constructor (__init__) and the \"destructor\" (__del__)\n",
    "class Example:\n",
    "    def __init__(self, name):\n",
    "        self.name = name\n",
    "        print(f\"Initializing Example object with name: {self.name}\")\n",
    "\n",
    "    def __del__(self):\n",
    "        print(f\"Destructing Example object with name: {self.name}\")\n",
    "\n",
    "# Creating an instance of the class\n",
    "obj1 = Example(\"Anushka\")\n",
    "\n",
    "# Deleting the object explicitly\n",
    "del obj1\n",
    "\n",
    "# Creating another instance\n",
    "obj2 = Example(\"Anshika\")\n",
    "\n",
    "# No explicit deletion; Python's garbage collector will handle it"
   ]
  }
 ],
 "metadata": {
  "kernelspec": {
   "display_name": "Python 3",
   "language": "python",
   "name": "python3"
  },
  "language_info": {
   "codemirror_mode": {
    "name": "ipython",
    "version": 3
   },
   "file_extension": ".py",
   "mimetype": "text/x-python",
   "name": "python",
   "nbconvert_exporter": "python",
   "pygments_lexer": "ipython3",
   "version": "3.12.3"
  }
 },
 "nbformat": 4,
 "nbformat_minor": 2
}
