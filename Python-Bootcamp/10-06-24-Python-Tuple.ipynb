{
 "cells": [
  {
   "cell_type": "code",
   "execution_count": 1,
   "metadata": {},
   "outputs": [
    {
     "name": "stdout",
     "output_type": "stream",
     "text": [
      "('apple', 'banana', 'cherry')\n"
     ]
    }
   ],
   "source": [
    "#creating tuples \n",
    "y= (\"apple\", \"banana\", \"cherry\")\n",
    "print(y)"
   ]
  },
  {
   "cell_type": "code",
   "execution_count": 2,
   "metadata": {},
   "outputs": [
    {
     "name": "stdout",
     "output_type": "stream",
     "text": [
      "('apple', 'banana', 'cherry', 'apple', 'cherry')\n",
      "3\n"
     ]
    }
   ],
   "source": [
    "# Allow Duplicates:\n",
    "x= (\"apple\", \"banana\", \"cherry\", \"apple\", \"cherry\")\n",
    "print(x)\n",
    "\n",
    "#Tuple Length:\n",
    "thistuple = tuple((\"apple\", \"banana\", \"cherry\"))\n",
    "print(len(thistuple))"
   ]
  },
  {
   "cell_type": "code",
   "execution_count": 3,
   "metadata": {},
   "outputs": [
    {
     "name": "stdout",
     "output_type": "stream",
     "text": [
      "('abc', 34, True, 40, 'male')\n"
     ]
    }
   ],
   "source": [
    "# Tuple can store different datatypes \n",
    "tuple1 = (\"abc\", 34, True, 40, \"male\")\n",
    "print(tuple1)"
   ]
  },
  {
   "cell_type": "code",
   "execution_count": 4,
   "metadata": {},
   "outputs": [
    {
     "name": "stdout",
     "output_type": "stream",
     "text": [
      "('apple', 'banana', 'cherry')\n",
      "banana\n",
      "('cherry', 'orange', 'kiwi')\n",
      "('apple', 'banana', 'cherry', 'orange')\n",
      "('orange', 'kiwi', 'melon')\n"
     ]
    }
   ],
   "source": [
    "# note the double round-brackets\n",
    "q = tuple((\"apple\", \"banana\", \"cherry\")) \n",
    "print(q)\n",
    "\n",
    "#Print the second item in the tuple:\n",
    "w = (\"apple\", \"banana\", \"cherry\")\n",
    "print(w[1])\n",
    "\n",
    "#Return the third, fourth, and fifth item:\n",
    "e = (\"apple\", \"banana\", \"cherry\", \"orange\", \"kiwi\", \"melon\", \"mango\")\n",
    "print(e[2:5])\n",
    "\n",
    "#This example returns the items from the beginning to, but NOT included, \"kiwi\":\n",
    "t= (\"apple\", \"banana\", \"cherry\", \"orange\", \"kiwi\", \"melon\", \"mango\")\n",
    "print(t[:4])\n",
    "\n",
    "#This example returns the items from index -4 (included) to index -1 (excluded)\n",
    "le = (\"apple\", \"banana\", \"cherry\", \"orange\", \"kiwi\", \"melon\", \"mango\")\n",
    "print(le[-4:-1])"
   ]
  },
  {
   "cell_type": "code",
   "execution_count": 5,
   "metadata": {},
   "outputs": [
    {
     "name": "stdout",
     "output_type": "stream",
     "text": [
      "('apple', 'banana', 'cherry', 'orange')\n"
     ]
    }
   ],
   "source": [
    "#Convert the tuple into a list , add \"orange\", and convert it back into a tuple:\n",
    "thistuple = (\"apple\", \"banana\", \"cherry\")\n",
    "y = list(thistuple)\n",
    "y.append(\"orange\")\n",
    "thistuple = tuple(y)\n",
    "\n",
    "print(thistuple)"
   ]
  },
  {
   "cell_type": "code",
   "execution_count": 8,
   "metadata": {},
   "outputs": [
    {
     "ename": "NameError",
     "evalue": "name 'thistuple' is not defined",
     "output_type": "error",
     "traceback": [
      "\u001b[0;31m---------------------------------------------------------------------------\u001b[0m",
      "\u001b[0;31mNameError\u001b[0m                                 Traceback (most recent call last)",
      "Cell \u001b[0;32mIn[8], line 4\u001b[0m\n\u001b[1;32m      2\u001b[0m thistuple \u001b[38;5;241m=\u001b[39m (\u001b[38;5;124m\"\u001b[39m\u001b[38;5;124mapple\u001b[39m\u001b[38;5;124m\"\u001b[39m, \u001b[38;5;124m\"\u001b[39m\u001b[38;5;124mbanana\u001b[39m\u001b[38;5;124m\"\u001b[39m, \u001b[38;5;124m\"\u001b[39m\u001b[38;5;124mcherry\u001b[39m\u001b[38;5;124m\"\u001b[39m)\n\u001b[1;32m      3\u001b[0m \u001b[38;5;28;01mdel\u001b[39;00m thistuple\n\u001b[0;32m----> 4\u001b[0m \u001b[38;5;28mprint\u001b[39m(\u001b[43mthistuple\u001b[49m)\n\u001b[1;32m      5\u001b[0m \u001b[38;5;66;03m#this will raise an error because the tuple no longer exists\u001b[39;00m\n",
      "\u001b[0;31mNameError\u001b[0m: name 'thistuple' is not defined"
     ]
    }
   ],
   "source": [
    "# Delete tuple:\n",
    "thistuple = (\"apple\", \"banana\", \"cherry\")\n",
    "del thistuple\n",
    "print(thistuple)\n",
    "#this will raise an error because the tuple no longer exists"
   ]
  },
  {
   "cell_type": "code",
   "execution_count": 6,
   "metadata": {},
   "outputs": [
    {
     "name": "stdout",
     "output_type": "stream",
     "text": [
      "apple\n",
      "['mango', 'papaya', 'pineapple']\n",
      "cherry\n"
     ]
    }
   ],
   "source": [
    "# Using Asterisk*:\n",
    "fruits = (\"apple\", \"mango\", \"papaya\", \"pineapple\", \"cherry\")\n",
    "\n",
    "(green, *tropic, red) = fruits\n",
    "\n",
    "print(green)\n",
    "print(tropic)\n",
    "print(red)"
   ]
  },
  {
   "cell_type": "code",
   "execution_count": 9,
   "metadata": {},
   "outputs": [
    {
     "name": "stdout",
     "output_type": "stream",
     "text": [
      "apple\n",
      "banana\n",
      "cherry\n"
     ]
    }
   ],
   "source": [
    "# You can loop through the tuple items by using a for loop.\n",
    "i = (\"apple\", \"banana\", \"cherry\")\n",
    "for x in i:\n",
    "  print(x)"
   ]
  },
  {
   "cell_type": "code",
   "execution_count": 10,
   "metadata": {},
   "outputs": [
    {
     "name": "stdout",
     "output_type": "stream",
     "text": [
      "Joined tuple: (1, 2, 3, 4, 5, 6)\n"
     ]
    }
   ],
   "source": [
    "# We can join two tuples\n",
    "tuple1 = (1, 2, 3)\n",
    "tuple2 = (4, 5, 6)\n",
    "\n",
    "joined_tuple = tuple1 + tuple2\n",
    "\n",
    "print(\"Joined tuple:\", joined_tuple)  # Output: Joined tuple: (1, 2, 3, 4, 5, 6)"
   ]
  },
  {
   "cell_type": "code",
   "execution_count": 11,
   "metadata": {},
   "outputs": [
    {
     "name": "stdout",
     "output_type": "stream",
     "text": [
      "('apple', 'banana', 'cherry', 'apple', 'banana', 'cherry')\n"
     ]
    }
   ],
   "source": [
    "# We can multiply tuple\n",
    "fruits = (\"apple\", \"banana\", \"cherry\")\n",
    "mytuple = fruits * 2\n",
    "\n",
    "print(mytuple)"
   ]
  },
  {
   "cell_type": "code",
   "execution_count": 12,
   "metadata": {},
   "outputs": [
    {
     "name": "stdout",
     "output_type": "stream",
     "text": [
      "['apple', 'banana']\n",
      "['cherry', 'date']\n",
      "[1, 10, 20, 30, 5, 6, 7, 8, 9]\n",
      "[1, 10, 20, 30, 40, 50, 5, 6, 7, 8, 9]\n"
     ]
    }
   ],
   "source": [
    "#Slicing and indexing \n",
    "\n",
    "my_list = ['apple', 'banana', 'cherry', 'date']\n",
    "print(my_list[:2]) # output: ['apple', 'banana']\n",
    "print(my_list[2:]) # output: ['cherry', 'date']\n",
    "\n",
    "numbers = [1, 2, 3, 4, 5, 6, 7, 8, 9]\n",
    "numbers[1:4] = [10, 20, 30]\n",
    "print(numbers) # output: [1, 10, 20, 30, 5, 6, 7, 8, 9]\n",
    "\n",
    "numbers[4:4] = [40, 50]\n",
    "print(numbers) # output: [1, 10, 20, 30, 40, 50, 5, 6, 7, 8, 9]"
   ]
  },
  {
   "cell_type": "code",
   "execution_count": 13,
   "metadata": {},
   "outputs": [
    {
     "name": "stdout",
     "output_type": "stream",
     "text": [
      "Length of the list: 5\n",
      "Sum of numbers: 15\n",
      "Largest number: 8\n",
      "Smallest number: 1\n",
      "Sorted list: [1, 2, 3, 5, 8]\n"
     ]
    }
   ],
   "source": [
    "#built in functions \n",
    "\n",
    "#len()\n",
    "numbers_list = [1, 2, 3, 4, 5]\n",
    "length = len(numbers_list)\n",
    "print(\"Length of the list:\", length)  # Output: Length of the list: 5\n",
    "\n",
    "#sum()\n",
    "numbers_list = [1, 2, 3, 4, 5]\n",
    "total_sum = sum(numbers_list)\n",
    "print(\"Sum of numbers:\", total_sum)  # Output: Sum of numbers: 15\n",
    "\n",
    "#max()\n",
    "numbers_list = [1, 5, 2, 8, 3]\n",
    "largest = max(numbers_list)\n",
    "print(\"Largest number:\", largest)  # Output: Largest number: 8\n",
    "\n",
    "#min()\n",
    "numbers_list = [1, 5, 2, 8, 3]\n",
    "smallest = min(numbers_list)\n",
    "print(\"Smallest number:\", smallest)  # Output: Smallest number: 1\n",
    "\n",
    "#sorted()\n",
    "numbers_list = [1, 5, 2, 8, 3]\n",
    "sorted_list = sorted(numbers_list)\n",
    "print(\"Sorted list:\", sorted_list)  # Output: Sorted list: [1, 2, 3, 5, 8]"
   ]
  }
 ],
 "metadata": {
  "kernelspec": {
   "display_name": "Python 3",
   "language": "python",
   "name": "python3"
  },
  "language_info": {
   "codemirror_mode": {
    "name": "ipython",
    "version": 3
   },
   "file_extension": ".py",
   "mimetype": "text/x-python",
   "name": "python",
   "nbconvert_exporter": "python",
   "pygments_lexer": "ipython3",
   "version": "3.9.6"
  }
 },
 "nbformat": 4,
 "nbformat_minor": 2
}
