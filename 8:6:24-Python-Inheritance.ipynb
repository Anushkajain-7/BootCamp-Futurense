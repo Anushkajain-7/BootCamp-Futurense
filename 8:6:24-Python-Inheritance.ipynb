{
 "cells": [
  {
   "cell_type": "code",
   "execution_count": 1,
   "metadata": {},
   "outputs": [],
   "source": [
    "class ParentClass:\n",
    "    #parent class methods and attributes\n",
    "    def prent_nethod(self):\n",
    "        print(\"This parent method\")\n",
    "\n",
    "class ChildClass(ParentClass):\n",
    "    #child class attributes and methods and parent class attributes and functions\n",
    "    def child_method(self):\n",
    "        print(\"This is child method\")"
   ]
  },
  {
   "cell_type": "code",
   "execution_count": 2,
   "metadata": {},
   "outputs": [
    {
     "name": "stdout",
     "output_type": "stream",
     "text": [
      "[<class '__main__.D'>, <class '__main__.B'>, <class '__main__.C'>, <class '__main__.A'>, <class 'object'>]\n"
     ]
    }
   ],
   "source": [
    "# MRO (Method Resolution Order): It is the order in which Python searches for methods in a class hierarchy when invoking a method on an instance.\n",
    "\n",
    "class A:\n",
    "    def method(self):\n",
    "        print(\"A method\")\n",
    "\n",
    "class B(A):\n",
    "    pass\n",
    "\n",
    "class C(A):\n",
    "    def method(self):\n",
    "        print(\"C method\")\n",
    "\n",
    "class D(B, C):\n",
    "    pass\n",
    "\n",
    "print(D.mro()) "
   ]
  },
  {
   "cell_type": "code",
   "execution_count": 3,
   "metadata": {},
   "outputs": [
    {
     "name": "stdout",
     "output_type": "stream",
     "text": [
      "This function is in parent class.\n",
      "This function is in child class.\n",
      "This function is in Parent1.\n",
      "This function is in Parent2.\n",
      "This function is in Child.\n",
      "This function is in GrandParent.\n",
      "This function is in Parent.\n",
      "This function is in Child.\n",
      "This function is in Parent.\n",
      "This function is in Child1.\n",
      "This function is in Parent.\n",
      "This function is in Child2.\n"
     ]
    }
   ],
   "source": [
    "# Types Of Inheritance \n",
    "\n",
    "# Single Inheritance: When a child class inherits from a single parent class.\n",
    "\n",
    "class Parent:\n",
    "    def func1(self):\n",
    "        print(\"This function is in parent class.\")\n",
    "\n",
    "class Child(Parent):\n",
    "    def func2(self):\n",
    "        print(\"This function is in child class.\")\n",
    "\n",
    "object = Child()\n",
    "object.func1() # Output: This function is in parent class.\n",
    "object.func2() # Output: This function is in child class.\n",
    "\n",
    "# Multiple Inheritance: When a child class inherits from multiple parent classes.\n",
    "\n",
    "class Parent1:\n",
    "    def func1(self):\n",
    "        print(\"This function is in Parent1.\")\n",
    "\n",
    "class Parent2:\n",
    "    def func2(self):\n",
    "        print(\"This function is in Parent2.\")\n",
    "\n",
    "class Child(Parent1, Parent2):\n",
    "    def func3(self):\n",
    "        print(\"This function is in Child.\")\n",
    "\n",
    "object = Child()\n",
    "object.func1() # Output: This function is in Parent1.\n",
    "object.func2() # Output: This function is in Parent2.\n",
    "object.func3() # Output: This function is in Child.\n",
    "\n",
    "# Multilevel Inheritance: When a child class inherits from a parent class, and that parent class inherits from another parent class.\n",
    "\n",
    "class GrandParent:\n",
    "    def func1(self):\n",
    "        print(\"This function is in GrandParent.\")\n",
    "\n",
    "class Parent(GrandParent):\n",
    "    def func2(self):\n",
    "        print(\"This function is in Parent.\")\n",
    "\n",
    "class Child(Parent):\n",
    "    def func3(self):\n",
    "        print(\"This function is in Child.\")\n",
    "\n",
    "object = Child()\n",
    "object.func1() # Output: This function is in GrandParent.\n",
    "object.func2() # Output: This function is in Parent.\n",
    "object.func3() # Output: This function is in Child.\n",
    "\n",
    "# Hierarchical Inheritance: When multiple child classes inherit from a single parent class.\n",
    "class Parent:\n",
    "    def func1(self):\n",
    "        print(\"This function is in Parent.\")\n",
    "\n",
    "class Child1(Parent):\n",
    "    def func2(self):\n",
    "        print(\"This function is in Child1.\")\n",
    "\n",
    "class Child2(Parent):\n",
    "    def func3(self):\n",
    "        print(\"This function is in Child2.\")\n",
    "\n",
    "object1 = Child1()\n",
    "object2 = Child2()\n",
    "object1.func1() # Output: This function is in Parent.\n",
    "object1.func2() # Output: This function is in Child1.\n",
    "object2.func1() # Output: This function is in Parent.\n",
    "object2.func3() # Output: This function is in Child2."
   ]
  },
  {
   "cell_type": "code",
   "execution_count": null,
   "metadata": {},
   "outputs": [],
   "source": [
    "# Method overriding : It is a feature in object-oriented programming where a subclass provides its own implementation of a method that is already defined in its superclass.\n",
    "\n",
    "class Animal:\n",
    "    def make_sound(self):\n",
    "        print(\"The animal makes a sound.\")\n",
    "\n",
    "class Dog(Animal):\n",
    "    def make_sound(self):\n",
    "        print(\"The dog barks.\")\n",
    "\n",
    "animal = Animal()\n",
    "animal.make_sound()  \n",
    "\n",
    "dog = Dog()\n",
    "dog.make_sound()  "
   ]
  },
  {
   "cell_type": "code",
   "execution_count": null,
   "metadata": {},
   "outputs": [],
   "source": [
    "# The super() function in Python is used to call a method in a parent class from a child class. It allows the child class to inherit and extend the functionality of the parent class.\n",
    "class Parent:\n",
    "    def __init__(self, value):\n",
    "        self.value = value\n",
    "\n",
    "    def show(self):\n",
    "        print(f\"Value in Parent: {self.value}\")\n",
    "\n",
    "class Child(Parent):\n",
    "    def __init__(self, value):\n",
    "        super().__init__(value)  # Call Parent's __init__ method\n",
    "        self.extra_value = value * 2\n",
    "\n",
    "    def show(self):\n",
    "        super().show()  # Call Parent's show method\n",
    "        print(f\"Extra value in Child: {self.extra_value}\")\n",
    "\n",
    "# Create an instance of the Child class\n",
    "child_obj = Child(10)\n",
    "child_obj.show()"
   ]
  }
 ],
 "metadata": {
  "kernelspec": {
   "display_name": "Python 3",
   "language": "python",
   "name": "python3"
  },
  "language_info": {
   "codemirror_mode": {
    "name": "ipython",
    "version": 3
   },
   "file_extension": ".py",
   "mimetype": "text/x-python",
   "name": "python",
   "nbconvert_exporter": "python",
   "pygments_lexer": "ipython3",
   "version": "3.9.6"
  }
 },
 "nbformat": 4,
 "nbformat_minor": 2
}
