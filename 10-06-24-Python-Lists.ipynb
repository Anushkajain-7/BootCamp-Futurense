{
 "cells": [
  {
   "cell_type": "code",
   "execution_count": 18,
   "metadata": {},
   "outputs": [],
   "source": [
    "# Appending list\n",
    "fruits = [\"apple\", \"banana\", \"cherry\"]"
   ]
  },
  {
   "cell_type": "code",
   "execution_count": 3,
   "metadata": {},
   "outputs": [
    {
     "name": "stdout",
     "output_type": "stream",
     "text": [
      "Append: ['apple', 'banana', 'cherry', 'orange']\n"
     ]
    }
   ],
   "source": [
    "# Append\n",
    "fruits.append(\"orange\")\n",
    "print(f\"Append: {fruits}\")"
   ]
  },
  {
   "cell_type": "code",
   "execution_count": 4,
   "metadata": {},
   "outputs": [
    {
     "name": "stdout",
     "output_type": "stream",
     "text": [
      "Insert: ['apple', 'grape', 'banana', 'cherry', 'orange']\n"
     ]
    }
   ],
   "source": [
    "# Insert\n",
    "fruits.insert(1, \"grape\")\n",
    "print(f\"Insert: {fruits}\")"
   ]
  },
  {
   "cell_type": "code",
   "execution_count": 6,
   "metadata": {},
   "outputs": [
    {
     "ename": "ValueError",
     "evalue": "list.remove(x): x not in list",
     "output_type": "error",
     "traceback": [
      "\u001b[0;31m---------------------------------------------------------------------------\u001b[0m",
      "\u001b[0;31mValueError\u001b[0m                                Traceback (most recent call last)",
      "Cell \u001b[0;32mIn[6], line 2\u001b[0m\n\u001b[1;32m      1\u001b[0m \u001b[38;5;66;03m# Remove\u001b[39;00m\n\u001b[0;32m----> 2\u001b[0m \u001b[43mfruits\u001b[49m\u001b[38;5;241;43m.\u001b[39;49m\u001b[43mremove\u001b[49m\u001b[43m(\u001b[49m\u001b[38;5;124;43m\"\u001b[39;49m\u001b[38;5;124;43mbanana\u001b[39;49m\u001b[38;5;124;43m\"\u001b[39;49m\u001b[43m)\u001b[49m\n\u001b[1;32m      3\u001b[0m \u001b[38;5;28mprint\u001b[39m(\u001b[38;5;124mf\u001b[39m\u001b[38;5;124m\"\u001b[39m\u001b[38;5;124mRemove: \u001b[39m\u001b[38;5;132;01m{\u001b[39;00mfruits\u001b[38;5;132;01m}\u001b[39;00m\u001b[38;5;124m\"\u001b[39m)\n",
      "\u001b[0;31mValueError\u001b[0m: list.remove(x): x not in list"
     ]
    }
   ],
   "source": [
    "# Remove\n",
    "fruits.remove(\"banana\")\n",
    "print(f\"Remove: {fruits}\")"
   ]
  },
  {
   "cell_type": "code",
   "execution_count": 7,
   "metadata": {},
   "outputs": [
    {
     "name": "stdout",
     "output_type": "stream",
     "text": [
      "Shallow Copy: ['lemon', 'grape', 'cherry', 'orange'], Original: ['apple', 'grape', 'cherry', 'orange']\n",
      "Deep Copy: ['kiwi', 'grape', 'cherry', 'orange'], Original: ['apple', 'grape', 'cherry', 'orange']\n"
     ]
    }
   ],
   "source": [
    "# Copy\n",
    "# Shallow Copy\n",
    "fruits_shallow_copy = fruits.copy()\n",
    "fruits_shallow_copy[0] = \"lemon\"  \n",
    "print(f\"Shallow Copy: {fruits_shallow_copy}, Original: {fruits}\")\n",
    "\n",
    "# Deep Copy\n",
    "import copy\n",
    "fruits_deep_copy = copy.deepcopy(fruits)\n",
    "fruits_deep_copy[0] = \"kiwi\"  \n",
    "print(f\"Deep Copy: {fruits_deep_copy}, Original: {fruits}\")"
   ]
  },
  {
   "cell_type": "code",
   "execution_count": 8,
   "metadata": {},
   "outputs": [
    {
     "name": "stdout",
     "output_type": "stream",
     "text": [
      "Count of 'apple': 2\n"
     ]
    }
   ],
   "source": [
    "# Count\n",
    "fruits.append(\"apple\")\n",
    "apple_count = fruits.count(\"apple\")\n",
    "print(f\"Count of 'apple': {apple_count}\")"
   ]
  },
  {
   "cell_type": "code",
   "execution_count": 9,
   "metadata": {},
   "outputs": [
    {
     "name": "stdout",
     "output_type": "stream",
     "text": [
      "Extend: ['apple', 'grape', 'cherry', 'orange', 'apple', 'pear', 'pineapple']\n"
     ]
    }
   ],
   "source": [
    "# Extend\n",
    "more_fruits = [\"pear\", \"pineapple\"]\n",
    "fruits.extend(more_fruits)\n",
    "print(f\"Extend: {fruits}\")\n"
   ]
  },
  {
   "cell_type": "code",
   "execution_count": 10,
   "metadata": {},
   "outputs": [
    {
     "name": "stdout",
     "output_type": "stream",
     "text": [
      "Index of 'apple': 0\n"
     ]
    }
   ],
   "source": [
    "# Index\n",
    "apple_index = fruits.index(\"apple\")\n",
    "print(f\"Index of 'apple': {apple_index}\")\n"
   ]
  },
  {
   "cell_type": "code",
   "execution_count": 11,
   "metadata": {},
   "outputs": [
    {
     "name": "stdout",
     "output_type": "stream",
     "text": [
      "Sort: ['apple', 'apple', 'cherry', 'grape', 'orange', 'pear', 'pineapple']\n"
     ]
    }
   ],
   "source": [
    "# Sort\n",
    "fruits.sort() \n",
    "print(f\"Sort: {fruits}\")"
   ]
  },
  {
   "cell_type": "code",
   "execution_count": 12,
   "metadata": {},
   "outputs": [
    {
     "name": "stdout",
     "output_type": "stream",
     "text": [
      "Reverse: ['pineapple', 'pear', 'orange', 'grape', 'cherry', 'apple', 'apple']\n"
     ]
    }
   ],
   "source": [
    "# Reverse\n",
    "fruits.reverse()\n",
    "print(f\"Reverse: {fruits}\")"
   ]
  },
  {
   "cell_type": "code",
   "execution_count": 13,
   "metadata": {},
   "outputs": [
    {
     "name": "stdout",
     "output_type": "stream",
     "text": [
      "Clear: []\n"
     ]
    }
   ],
   "source": [
    "# Clear\n",
    "fruits.clear()\n",
    "print(f\"Clear: {fruits}\")"
   ]
  },
  {
   "cell_type": "code",
   "execution_count": 14,
   "metadata": {},
   "outputs": [
    {
     "name": "stdout",
     "output_type": "stream",
     "text": [
      "Pop: pineapple, Remaining: ['pear']\n"
     ]
    }
   ],
   "source": [
    "#Pop\n",
    "removed_fruit = more_fruits.pop()  \n",
    "print(f\"Pop: {removed_fruit}, Remaining: {more_fruits}\")"
   ]
  },
  {
   "cell_type": "code",
   "execution_count": 15,
   "metadata": {},
   "outputs": [
    {
     "name": "stdout",
     "output_type": "stream",
     "text": [
      "List of squares: [0, 1, 4, 9, 16, 25, 36, 49, 64, 81]\n",
      "Even numbers: [0, 2, 4, 6, 8, 10, 12, 14, 16, 18]\n",
      "Uppercased words: ['HELLO', 'WORLD', 'PYTHON', 'CODE']\n",
      "Number-Square pairs: [(0, 0), (1, 1), (2, 4), (3, 9), (4, 16), (5, 25), (6, 36), (7, 49), (8, 64), (9, 81)]\n",
      "Flattened list: [1, 2, 3, 4, 5, 6, 7, 8, 9]\n"
     ]
    }
   ],
   "source": [
    "# List Comprehension\n",
    "#  list of squares for numbers from 0 to 9\n",
    "squares = [x ** 2 for x in range(10)]\n",
    "print(\"List of squares:\", squares)\n",
    "\n",
    "# list of even numbers from 0 to 19\n",
    "even_numbers = [x for x in range(20) if x % 2 == 0]\n",
    "print(\"Even numbers:\", even_numbers)\n",
    "\n",
    "#  list of words to uppercase\n",
    "words = [\"hello\", \"world\", \"python\", \"code\"]\n",
    "uppercased_words = [word.upper() for word in words]\n",
    "print(\"Uppercased words:\", uppercased_words)\n",
    "\n",
    "# list of tuples with numbers and their squares\n",
    "number_square_pairs = [(x, x ** 2) for x in range(10)]\n",
    "print(\"Number-Square pairs:\", number_square_pairs)\n",
    "\n",
    "#  list of lists into a single list\n",
    "nested_list = [[1, 2, 3], [4, 5, 6], [7, 8, 9]]\n",
    "flattened_list = [item for sublist in nested_list for item in sublist]\n",
    "print(\"Flattened list:\", flattened_list)"
   ]
  },
  {
   "cell_type": "code",
   "execution_count": 19,
   "metadata": {},
   "outputs": [
    {
     "name": "stdout",
     "output_type": "stream",
     "text": [
      "First fruit: apple\n",
      "Second fruit: banana\n",
      "Last fruit: cherry\n",
      "Second last fruit: banana\n",
      "Third last fruit: apple\n",
      "Middle fruit: cherry\n",
      "Updated fruits: ['apple', 'blueberry', 'cherry']\n"
     ]
    }
   ],
   "source": [
    "# indexing\n",
    "# Accessing elements using positive indexing\n",
    "first_fruit = fruits[0]  \n",
    "second_fruit = fruits[1] \n",
    "last_fruit = fruits[-1]  \n",
    "print(\"First fruit:\", first_fruit)  \n",
    "print(\"Second fruit:\", second_fruit) \n",
    "print(\"Last fruit:\", last_fruit)  \n",
    "\n",
    "# Accessing elements using negative indexing\n",
    "second_last_fruit = fruits[-2] \n",
    "third_last_fruit = fruits[-3]  \n",
    "print(\"Second last fruit:\", second_last_fruit)  \n",
    "print(\"Third last fruit:\", third_last_fruit)  \n",
    "\n",
    "# Get the value of an element at a specific index\n",
    "middle_fruit = fruits[2]  \n",
    "print(\"Middle fruit:\", middle_fruit)  \n",
    "\n",
    "# Change the value of an element at a specific index\n",
    "fruits[1] = \"blueberry\"  \n",
    "print(\"Updated fruits:\", fruits)  "
   ]
  },
  {
   "cell_type": "code",
   "execution_count": 20,
   "metadata": {},
   "outputs": [
    {
     "name": "stdout",
     "output_type": "stream",
     "text": [
      "Positive Slicing: ['blueberry', 'cherry']\n",
      "Positive Slicing with Step: ['blueberry']\n",
      "Negative Slicing: ['apple', 'blueberry', 'cherry']\n",
      "Negative Slicing with Reverse: ['blueberry', 'apple']\n",
      "Retrieve a Portion: ['cherry']\n",
      "Update a Slice: ['apple', 'blueberry', 'cranberry']\n",
      "Delete a Slice: ['apple', 'blueberry']\n",
      "Insert into a Slice: ['apple', 'kiwi', 'mango', 'blueberry']\n"
     ]
    }
   ],
   "source": [
    "#Slicng \n",
    "\n",
    "# Slice from index 1 to 4 \n",
    "subset1 = fruits[1:4]  \n",
    "print(\"Positive Slicing:\", subset1)\n",
    "\n",
    "# Slice with a step\n",
    "subset2 = fruits[1:6:2]  \n",
    "print(\"Positive Slicing with Step:\", subset2)\n",
    "\n",
    "# Slice the last three elements\n",
    "subset3 = fruits[-3:] \n",
    "print(\"Negative Slicing:\", subset3)\n",
    "\n",
    "# Slice from the second to last to the fourth to last \n",
    "subset4 = fruits[-2:-5:-1]  \n",
    "print(\"Negative Slicing with Reverse:\", subset4)\n",
    "\n",
    "# Extract a portion of the list\n",
    "middle_subset = fruits[2:5]  \n",
    "print(\"Retrieve a Portion:\", middle_subset)\n",
    "\n",
    "# Update elements within a slice\n",
    "fruits[1:3] = [\"blueberry\", \"cranberry\"]  \n",
    "print(\"Update a Slice:\", fruits)  \n",
    "\n",
    "# Remove elements within a slice\n",
    "del fruits[2:4]  \n",
    "print(\"Delete a Slice:\", fruits)  \n",
    "\n",
    "# Add elements into a specific position\n",
    "fruits[1:1] = [\"kiwi\", \"mango\"]  \n",
    "print(\"Insert into a Slice:\", fruits)  "
   ]
  },
  {
   "cell_type": "code",
   "execution_count": 21,
   "metadata": {},
   "outputs": [
    {
     "name": "stdout",
     "output_type": "stream",
     "text": [
      "Is 'banana' in the list? True\n",
      "Index of 'banana': 1\n",
      "Found element: date\n"
     ]
    }
   ],
   "source": [
    "#Seraching \n",
    "# Create a list of fruits\n",
    "fruits = [\"apple\", \"banana\", \"cherry\", \"date\", \"elderberry\"]\n",
    "\n",
    "# Checking if an element exists in the list\n",
    "has_banana = \"banana\" in fruits  \n",
    "print(\"Is 'banana' in the list?\", has_banana)\n",
    "\n",
    "# Finding the index of an element\n",
    "banana_index = fruits.index(\"banana\")  \n",
    "print(\"Index of 'banana':\", banana_index)\n",
    "\n",
    "# Iterating through the list to find a specific element\n",
    "element_to_find = \"date\"\n",
    "found_element = None\n",
    "for fruit in fruits:\n",
    "    if fruit == element_to_find:\n",
    "        found_element = fruit\n",
    "        break\n",
    "print(\"Found element:\", found_element)  "
   ]
  }
 ],
 "metadata": {
  "kernelspec": {
   "display_name": "Python 3",
   "language": "python",
   "name": "python3"
  },
  "language_info": {
   "codemirror_mode": {
    "name": "ipython",
    "version": 3
   },
   "file_extension": ".py",
   "mimetype": "text/x-python",
   "name": "python",
   "nbconvert_exporter": "python",
   "pygments_lexer": "ipython3",
   "version": "3.9.6"
  }
 },
 "nbformat": 4,
 "nbformat_minor": 2
}
