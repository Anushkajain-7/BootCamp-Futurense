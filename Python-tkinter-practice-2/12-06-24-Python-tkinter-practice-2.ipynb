{
 "cells": [
  {
   "cell_type": "code",
   "execution_count": null,
   "metadata": {},
   "outputs": [],
   "source": [
    "# Tkinter is a standard GUI library for Python\n",
    "import tkinter as tk\n",
    "from tkinter import messagebox, colorchooser  # Modules for messagebox and color chooser\n",
    "\n",
    "# Root window is the main window of the application\n",
    "root = tk.Tk()\n",
    "root.title(\"Tkinter Practice\")  # Set the title of the window\n",
    "\n",
    "# Label is a widget used to display text or images\n",
    "label = tk.Label(root, text=\"Hello, Tkinter!\")\n",
    "label.pack()  # Add the label to the root window\n",
    "\n",
    "# Button is a widget that performs an action when clicked\n",
    "def change_color():\n",
    "    \"\"\"Change the color of the label\"\"\"\n",
    "    color = colorchooser.askcolor(title=\"Choose a color\")  # Open a color chooser dialog\n",
    "    if color[1]:  # If a color is selected\n",
    "        label.config(fg=color[1])  # Change the foreground color of the label\n",
    "\n",
    "button = tk.Button(root, text=\"Change Color\", command=change_color)\n",
    "button.pack()  # Add the button to the root window\n",
    "\n",
    "# Radiobutton is a widget that allows the user to select one option from a set\n",
    "var = tk.IntVar()  # Variable to store the selected option\n",
    "def show_selection():\n",
    "    \"\"\"Display the selected option in the label\"\"\"\n",
    "    selection = f\"You selected option {var.get()}\"\n",
    "    label.config(text=selection)\n",
    "\n",
    "tk.Radiobutton(root, text=\"Option 1\", variable=var, value=1, command=show_selection).pack()\n",
    "tk.Radiobutton(root, text=\"Option 2\", variable=var, value=2, command=show_selection).pack()\n",
    "\n",
    "# Listbox is a widget that displays a list of items\n",
    "listbox = tk.Listbox(root)\n",
    "items = [\"Item 1\", \"Item 2\", \"Item 3\"]  # List of items\n",
    "for item in items:\n",
    "    listbox.insert(tk.END, item)  # Add items to the listbox\n",
    "listbox.pack()\n",
    "\n",
    "# Messagebox is a dialog box used to display messages\n",
    "def show_message():\n",
    "    \"\"\"Show a message box\"\"\"\n",
    "    messagebox.showinfo(\"Message\", \"This is a message box!\")\n",
    "\n",
    "message_button = tk.Button(root, text=\"Show Message\", command=show_message)\n",
    "message_button.pack()\n",
    "\n",
    "# Image is a widget that displays an image\n",
    "# Create a PhotoImage object from an image file\n",
    "image = tk.PhotoImage(file=\"logo.png\")  \n",
    "image_label = tk.Label(root, image=image)\n",
    "image_label.pack()\n",
    "\n",
    "root.mainloop()  # Start the main event loop"
   ]
  }
 ],
 "metadata": {
  "kernelspec": {
   "display_name": "Python 3",
   "language": "python",
   "name": "python3"
  },
  "language_info": {
   "codemirror_mode": {
    "name": "ipython",
    "version": 3
   },
   "file_extension": ".py",
   "mimetype": "text/x-python",
   "name": "python",
   "nbconvert_exporter": "python",
   "pygments_lexer": "ipython3",
   "version": "3.9.6"
  }
 },
 "nbformat": 4,
 "nbformat_minor": 2
}
