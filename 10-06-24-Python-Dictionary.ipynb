{
 "cells": [
  {
   "cell_type": "code",
   "execution_count": 45,
   "metadata": {},
   "outputs": [],
   "source": [
    "# Using the dict() constructor\n",
    "empty_dict = dict()\n",
    "\n",
    "# Using curly braces\n",
    "person = {'name': 'Anushka', 'age': 19, 'city': 'Phagwara'}"
   ]
  },
  {
   "cell_type": "code",
   "execution_count": 46,
   "metadata": {},
   "outputs": [
    {
     "name": "stdout",
     "output_type": "stream",
     "text": [
      "Anushka\n",
      "19\n"
     ]
    }
   ],
   "source": [
    "# Accessing values\n",
    "print(person['name'])  \n",
    "print(person.get('age'))    \n",
    "\n",
    "# Modifying values\n",
    "person['age'] = 18"
   ]
  },
  {
   "cell_type": "code",
   "execution_count": 4,
   "metadata": {},
   "outputs": [
    {
     "name": "stdout",
     "output_type": "stream",
     "text": [
      "Anushka Jain\n",
      "Phagwara\n"
     ]
    }
   ],
   "source": [
    "# Representing a person object\n",
    "person = {\n",
    "    'name': 'Anushka Jain',\n",
    "    'age': 19,\n",
    "    'address': {\n",
    "        'street': '123 LPU',\n",
    "        'city': 'Phagwara',\n",
    "        'state': 'Pnb'\n",
    "    }\n",
    "}\n",
    "\n",
    "# Accessing nested data\n",
    "print(person['name'])  \n",
    "print(person['address']['city']) "
   ]
  },
  {
   "cell_type": "code",
   "execution_count": 5,
   "metadata": {},
   "outputs": [],
   "source": [
    "# Configuration settings for an application\n",
    "config = {\n",
    "    'debug': True,\n",
    "    'log_file': 'app.log',\n",
    "    'database': {\n",
    "        'host': 'localhost',\n",
    "        'user': 'root',\n",
    "        'password': 'secret'\n",
    "    }\n",
    "}\n",
    "\n",
    "# Accessing configuration values\n",
    "debug_mode = config['debug']\n",
    "log_file = config['log_file']\n",
    "db_host = config['database']['host']"
   ]
  },
  {
   "cell_type": "code",
   "execution_count": 6,
   "metadata": {},
   "outputs": [
    {
     "name": "stdout",
     "output_type": "stream",
     "text": [
      "{'Hello,': 2, 'world!': 1, 'Python!': 1}\n"
     ]
    }
   ],
   "source": [
    "# Counting word occurrences in a sentence\n",
    "sentence = \"Hello, world! Hello, Python!\"\n",
    "word_counts = {}\n",
    "\n",
    "for word in sentence.split():\n",
    "    if word in word_counts:\n",
    "        word_counts[word] += 1\n",
    "    else:\n",
    "        word_counts[word] = 1\n",
    "\n",
    "print(word_counts)  "
   ]
  },
  {
   "cell_type": "code",
   "execution_count": 18,
   "metadata": {},
   "outputs": [
    {
     "name": "stdout",
     "output_type": "stream",
     "text": [
      "[]\n",
      "{'Phagwara': [{'name': 'Anushka', 'age': 19, 'city': 'Phagwara'}], 'Sahranpur': [{'name': 'Apoorva', 'age': 15, 'city': 'Sahranpur'}], 'Lucknow': [{'name': 'Arshita', 'age': 30, 'city': 'Lucknow'}]}\n"
     ]
    }
   ],
   "source": [
    "# Data manipulation and filtering\n",
    "data = [\n",
    "    {'name': 'Anushka', 'age': 19, 'city': 'Phagwara'},\n",
    "    {'name': 'Apoorva', 'age': 15, 'city': 'Sahranpur'},\n",
    "    {'name': 'Arshita', 'age': 30, 'city': 'Lucknow'}\n",
    "]\n",
    "\n",
    "# Filtering data based on a condition\n",
    "filtered_data = [person for person in data if person['age'] > 30]\n",
    "print(filtered_data)  \n",
    "\n",
    "# Grouping data by city\n",
    "grouped_data = {}\n",
    "for person in data:\n",
    "    city = person['city']\n",
    "    if city in grouped_data:\n",
    "        grouped_data[city].append(person)\n",
    "    else:\n",
    "        grouped_data[city] = [person]\n",
    "\n",
    "print(grouped_data)"
   ]
  },
  {
   "cell_type": "code",
   "execution_count": 14,
   "metadata": {},
   "outputs": [
    {
     "name": "stdout",
     "output_type": "stream",
     "text": [
      "dict_keys(['name', 'age', 'city'])\n"
     ]
    }
   ],
   "source": [
    "#Keys()\n",
    "keys = person.keys()\n",
    "print(keys) "
   ]
  },
  {
   "cell_type": "code",
   "execution_count": 27,
   "metadata": {},
   "outputs": [
    {
     "name": "stdout",
     "output_type": "stream",
     "text": [
      "dict_values(['Arshita', 30, 'Lucknow'])\n"
     ]
    }
   ],
   "source": [
    "#Values()\n",
    "values = person.values()\n",
    "print(values)"
   ]
  },
  {
   "cell_type": "code",
   "execution_count": 24,
   "metadata": {},
   "outputs": [
    {
     "name": "stdout",
     "output_type": "stream",
     "text": [
      "dict_items([('name', 'Arshita'), ('age', 30), ('city', 'Lucknow')])\n"
     ]
    }
   ],
   "source": [
    "#items()\n",
    "items = person.items()\n",
    "print(items)"
   ]
  },
  {
   "cell_type": "code",
   "execution_count": 25,
   "metadata": {},
   "outputs": [
    {
     "name": "stdout",
     "output_type": "stream",
     "text": [
      "None\n",
      "0\n"
     ]
    }
   ],
   "source": [
    "#get()\n",
    "print(person.get('Name'))  \n",
    "print(person.get('phonenumber', 0))  "
   ]
  },
  {
   "cell_type": "code",
   "execution_count": 28,
   "metadata": {},
   "outputs": [
    {
     "name": "stdout",
     "output_type": "stream",
     "text": [
      "2\n",
      "{'apple': 1, 'orange': 3}\n"
     ]
    }
   ],
   "source": [
    "#pop()\n",
    "my_dict = {'apple': 1, 'banana': 2, 'orange': 3}\n",
    "removed_value = my_dict.pop('banana')\n",
    "print(removed_value) \n",
    "print(my_dict) "
   ]
  },
  {
   "cell_type": "code",
   "execution_count": 29,
   "metadata": {},
   "outputs": [
    {
     "name": "stdout",
     "output_type": "stream",
     "text": [
      "{}\n"
     ]
    }
   ],
   "source": [
    "#clear()\n",
    "my_dict.clear()\n",
    "print(my_dict)"
   ]
  },
  {
   "cell_type": "code",
   "execution_count": 30,
   "metadata": {},
   "outputs": [
    {
     "name": "stdout",
     "output_type": "stream",
     "text": [
      "{'name': 'Arshita', 'age': 30, 'city': 'Lucknow'}\n"
     ]
    }
   ],
   "source": [
    "#copy()\n",
    "new_dic = person.copy()\n",
    "print(new_dic)"
   ]
  },
  {
   "cell_type": "code",
   "execution_count": 31,
   "metadata": {},
   "outputs": [],
   "source": [
    "person['email'] = 'john@example.com'  # Adding a new pair\n",
    "popped_value = person.pop('age')  # Removing a pair"
   ]
  },
  {
   "cell_type": "code",
   "execution_count": 32,
   "metadata": {},
   "outputs": [
    {
     "name": "stdout",
     "output_type": "stream",
     "text": [
      "{1: 1, 2: 4, 3: 9, 4: 16, 5: 25}\n"
     ]
    }
   ],
   "source": [
    "# List of numbers\n",
    "numbers = [1, 2, 3, 4, 5]\n",
    "\n",
    "# Dictionary with squares of numbers\n",
    "squares = {num: num**2 for num in numbers}\n",
    "print(squares)"
   ]
  },
  {
   "cell_type": "code",
   "execution_count": 33,
   "metadata": {},
   "outputs": [
    {
     "name": "stdout",
     "output_type": "stream",
     "text": [
      "{1: 'a', 2: 'b', 3: 'c'}\n"
     ]
    }
   ],
   "source": [
    "# Original dictionary\n",
    "original = {'a': 1, 'b': 2, 'c': 3}\n",
    "\n",
    "# New dictionary with keys and values swapped\n",
    "swapped = {value: key for key, value in original.items()}\n",
    "print(swapped)\n"
   ]
  },
  {
   "cell_type": "code",
   "execution_count": 34,
   "metadata": {},
   "outputs": [
    {
     "name": "stdout",
     "output_type": "stream",
     "text": [
      "{2: 8, 4: 64, 6: 216, 8: 512, 10: 1000}\n"
     ]
    }
   ],
   "source": [
    "# List of numbers\n",
    "numbers = [1, 2, 3, 4, 5, 6, 7, 8, 9, 10]\n",
    "\n",
    "# Dictionary with even numbers as keys and their cubes as values\n",
    "even_cubes = {num: num**3 for num in numbers if num % 2 == 0}\n",
    "print(even_cubes)\n"
   ]
  },
  {
   "cell_type": "code",
   "execution_count": null,
   "metadata": {},
   "outputs": [],
   "source": [
    "# List of keys\n",
    "keys = ['a', 'b', 'c', 'd', 'e']\n",
    "\n",
    "# List of values\n",
    "values = [1, 2, 3, 4, 5]\n",
    "\n",
    "# Dictionary from keys and values\n",
    "new_dict = {key: value for key, value in zip(keys, values)}\n",
    "print(new_dict)"
   ]
  },
  {
   "cell_type": "code",
   "execution_count": 35,
   "metadata": {},
   "outputs": [
    {
     "name": "stdout",
     "output_type": "stream",
     "text": [
      "anushkajain1114.com\n"
     ]
    }
   ],
   "source": [
    "#Nesting Dictionaries \n",
    "person = {\n",
    "    'name': 'Anushka',\n",
    "    'age': 19,\n",
    "    'contact': {\n",
    "        'email': 'anushkajain1114.com',\n",
    "        'phone': '123-456-7890'\n",
    "    }\n",
    "}\n",
    "\n",
    "print(person['contact']['email']) "
   ]
  },
  {
   "cell_type": "code",
   "execution_count": 37,
   "metadata": {},
   "outputs": [
    {
     "name": "stdout",
     "output_type": "stream",
     "text": [
      "{'Hello,': 2, 'world!': 1, 'Python!': 1}\n",
      "[]\n"
     ]
    }
   ],
   "source": [
    "#Use cases\n",
    "\n",
    "#counting occurance \n",
    "\n",
    "sentence = \"Hello, world! Hello, Python!\"\n",
    "word_counts = {}\n",
    "\n",
    "for word in sentence.split():\n",
    "    if word in word_counts:\n",
    "        word_counts[word] += 1\n",
    "    else:\n",
    "        word_counts[word] = 1\n",
    "\n",
    "print(word_counts)  \n",
    "\n",
    "#Data manipulation and analysis\n",
    "\n",
    "data = [\n",
    "    {'name': 'Anushka', 'age': 19, 'city': 'phagwara'},\n",
    "    {'name': 'Anshita', 'age': 30, 'city': 'Lucknow'},\n",
    "    {'name': 'Bobby', 'age': 25, 'city': 'Chandigarh'}\n",
    "]\n",
    "\n",
    "filtered_data = [person for person in data if person['age'] > 30]\n",
    "print(filtered_data)  \n",
    "\n"
   ]
  },
  {
   "cell_type": "code",
   "execution_count": 38,
   "metadata": {},
   "outputs": [
    {
     "name": "stdout",
     "output_type": "stream",
     "text": [
      "{4, 5}\n",
      "{1: 2, 2: 2, 3: 1, 4: 1, 5: 2}\n"
     ]
    }
   ],
   "source": [
    "# Finding common elements between two lists\n",
    "list1 = [1, 2, 3, 4, 5]\n",
    "list2 = [4, 5, 6, 7, 8]\n",
    "\n",
    "set1 = set(list1)\n",
    "set2 = set(list2)\n",
    "\n",
    "common_elements = set1.intersection(set2)\n",
    "print(common_elements)  \n",
    "\n",
    "# Counting unique elements\n",
    "elements = [1, 2, 3, 1, 2, 4, 5, 5]\n",
    "unique_counts = {element: elements.count(element) for element in set(elements)}\n",
    "print(unique_counts) "
   ]
  },
  {
   "cell_type": "code",
   "execution_count": 39,
   "metadata": {},
   "outputs": [
    {
     "name": "stdout",
     "output_type": "stream",
     "text": [
      "{'phagwara': [{'name': 'Anushka', 'age': 19, 'city': 'phagwara'}], 'Lucknow': [{'name': 'Anshita', 'age': 30, 'city': 'Lucknow'}], 'Chandigarh': [{'name': 'Bobby', 'age': 25, 'city': 'Chandigarh'}, {'name': 'Dev', 'age': 40, 'city': 'Chandigarh'}]}\n"
     ]
    }
   ],
   "source": [
    "#Data Manipulation\n",
    "# List of dictionaries\n",
    "data = [\n",
    "    {'name': 'Anushka', 'age': 19, 'city': 'phagwara'},\n",
    "    {'name': 'Anshita', 'age': 30, 'city': 'Lucknow'},\n",
    "    {'name': 'Bobby', 'age': 25, 'city': 'Chandigarh'},\n",
    "    {\"name\": \"Dev\", \"age\": 40, \"city\": \"Chandigarh\"}\n",
    "]\n",
    "\n",
    "# Grouping data by city\n",
    "grouped_data = {}\n",
    "for person in data:\n",
    "    city = person[\"city\"]\n",
    "    if city in grouped_data:\n",
    "        grouped_data[city].append(person)\n",
    "    else:\n",
    "        grouped_data[city] = [person]\n",
    "\n",
    "print(grouped_data)"
   ]
  },
  {
   "cell_type": "code",
   "execution_count": 42,
   "metadata": {},
   "outputs": [
    {
     "name": "stdout",
     "output_type": "stream",
     "text": [
      "[{'name': 'Charlie', 'age': 35, 'city': 'New York'}, {'name': 'David', 'age': 40, 'city': 'Chicago'}]\n"
     ]
    }
   ],
   "source": [
    "# data filtering\n",
    "# List of dictionaries\n",
    "data = [\n",
    "    {'name': 'Anushka', 'age': 19, 'city': 'phagwara'},\n",
    "    {'name': 'Anshita', 'age': 30, 'city': 'Lucknow'},\n",
    "    {'name': 'Bobby', 'age': 25, 'city': 'Chandigarh'},\n",
    "    {\"name\": \"Dev\", \"age\": 40, \"city\": \"Chandigarh\"}\n",
    "]\n",
    "\n",
    "# Filtering data based on age\n",
    "filtered_data = [person for person in data if person[\"age\"] > 30]\n",
    "\n",
    "print(filtered_data)"
   ]
  },
  {
   "cell_type": "code",
   "execution_count": 43,
   "metadata": {},
   "outputs": [
    {
     "name": "stdout",
     "output_type": "stream",
     "text": [
      "{'phagwara': 19.0, 'Lucknow': 30.0, 'Chandigarh': 32.5}\n"
     ]
    }
   ],
   "source": [
    "#Data Analysis\n",
    "# List of dictionaries\n",
    "data = [\n",
    "    {'name': 'Anushka', 'age': 19, 'city': 'phagwara'},\n",
    "    {'name': 'Anshita', 'age': 30, 'city': 'Lucknow'},\n",
    "    {'name': 'Bobby', 'age': 25, 'city': 'Chandigarh'},\n",
    "    {\"name\": \"Dev\", \"age\": 40, \"city\": \"Chandigarh\"}\n",
    "]\n",
    "\n",
    "# Calculating average age by city\n",
    "city_ages = {}\n",
    "for person in data:\n",
    "    city = person[\"city\"]\n",
    "    age = person[\"age\"]\n",
    "    if city in city_ages:\n",
    "        city_ages[city].append(age)\n",
    "    else:\n",
    "        city_ages[city] = [age]\n",
    "\n",
    "average_ages = {city: sum(ages) / len(ages) for city, ages in city_ages.items()}\n",
    "\n",
    "print(average_ages)"
   ]
  }
 ],
 "metadata": {
  "kernelspec": {
   "display_name": "Python 3",
   "language": "python",
   "name": "python3"
  },
  "language_info": {
   "codemirror_mode": {
    "name": "ipython",
    "version": 3
   },
   "file_extension": ".py",
   "mimetype": "text/x-python",
   "name": "python",
   "nbconvert_exporter": "python",
   "pygments_lexer": "ipython3",
   "version": "3.9.6"
  }
 },
 "nbformat": 4,
 "nbformat_minor": 2
}
